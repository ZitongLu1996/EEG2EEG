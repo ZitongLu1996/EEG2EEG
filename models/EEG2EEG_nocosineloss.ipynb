{
 "cells": [
  {
   "cell_type": "code",
   "execution_count": 1,
   "id": "54cc5835",
   "metadata": {},
   "outputs": [],
   "source": [
    "import torch\n",
    "from torch import nn\n",
    "from tqdm.auto import tqdm\n",
    "from torchvision import transforms\n",
    "from torchvision.utils import make_grid\n",
    "from torch.utils.data import DataLoader\n",
    "import numpy as np\n",
    "import matplotlib.pyplot as plt\n",
    "from scipy.stats import spearmanr\n",
    "import warnings\n",
    "import copy\n",
    "import os\n",
    "warnings.filterwarnings('ignore')"
   ]
  },
  {
   "cell_type": "code",
   "execution_count": 2,
   "id": "5f8f3774",
   "metadata": {},
   "outputs": [],
   "source": [
    "for subid1 in range(10):\n",
    "    for subid2 in range(10):\n",
    "        if subid1 != subid2:\n",
    "            path = f'weights_nocosineloss/Sub{subid1+1}ToSub{subid2+1}_AllChannels'\n",
    "            if not os.path.exists(path):\n",
    "                os.makedirs(path)"
   ]
  },
  {
   "cell_type": "code",
   "execution_count": 3,
   "id": "0b539841",
   "metadata": {},
   "outputs": [],
   "source": [
    "def show(condition, fake, real):\n",
    "    '''\n",
    "    Function for visualizing images: Given a tensor of images, number of images, and\n",
    "    size per image, plots and prints the images in an uniform grid.\n",
    "    '''\n",
    "    condition = condition.detach().cpu().numpy()\n",
    "    fake = fake.detach().cpu().numpy()\n",
    "    real = real.detach().cpu().numpy()\n",
    "    t = np.arange(0, 200, 1)\n",
    "    fig, axs = plt.subplots(2, 1)\n",
    "    axs[0].plot(t, condition[0, 0])\n",
    "    \n",
    "    axs[1].plot(t, real[0, 0], label='real')\n",
    "    axs[1].plot(t, fake[0, 0], label='fake')\n",
    "    axs[1].legend()\n",
    "    plt.show()"
   ]
  },
  {
   "cell_type": "markdown",
   "id": "8927a850",
   "metadata": {},
   "source": [
    "2D U-Net"
   ]
  },
  {
   "cell_type": "code",
   "execution_count": 4,
   "id": "ceb6b539",
   "metadata": {},
   "outputs": [],
   "source": [
    "def crop(data, new_shape):\n",
    "    '''\n",
    "    Function for cropping an image tensor: Given an image tensor and the new shape,\n",
    "    crops to the center pixels.\n",
    "    Parameters:\n",
    "        image: image tensor of shape (batch size, channels, height, width)\n",
    "        new_shape: a torch.Size object with the shape you want x to have\n",
    "    '''\n",
    "    middle_length = data.shape[2] // 2\n",
    "    starting = middle_length - round(new_shape[2] / 2)\n",
    "    final = starting + new_shape[2]\n",
    "    cropped_data = data[:, :, starting:final]\n",
    "    return cropped_data\n",
    "\n",
    "class ContractingBlock(nn.Module):\n",
    "    '''\n",
    "    ContractingBlock Class\n",
    "    Performs two convolutions followed by a max pool operation.\n",
    "    Values:\n",
    "        input_channels: the number of channels to expect from a given input\n",
    "    '''\n",
    "    def __init__(self, input_channels, use_dropout=False, use_bn=True):\n",
    "        super(ContractingBlock, self).__init__()\n",
    "        self.conv1 = nn.Conv1d(input_channels, input_channels * 2, kernel_size=3, padding=1)\n",
    "        self.conv2 = nn.Conv1d(input_channels * 2, input_channels * 2, kernel_size=3, padding=1)\n",
    "        self.activation = nn.LeakyReLU(0.2)\n",
    "        if use_bn:\n",
    "            self.batchnorm = nn.BatchNorm1d(input_channels * 2)\n",
    "        self.use_bn = use_bn\n",
    "        if use_dropout:\n",
    "            self.dropout = nn.Dropout()\n",
    "        self.use_dropout = use_dropout\n",
    "\n",
    "    def forward(self, x):\n",
    "        '''\n",
    "        Function for completing a forward pass of ContractingBlock: \n",
    "        Given an image tensor, completes a contracting block and returns the transformed tensor.\n",
    "        Parameters:\n",
    "            x: image tensor of shape (batch size, channels, height, width)\n",
    "        '''\n",
    "        x = self.conv1(x)\n",
    "        if self.use_bn:\n",
    "            x = self.batchnorm(x)\n",
    "        if self.use_dropout:\n",
    "            x = self.dropout(x)\n",
    "        x = self.activation(x)\n",
    "        x = self.conv2(x)\n",
    "        if self.use_bn:\n",
    "            x = self.batchnorm(x)\n",
    "        if self.use_dropout:\n",
    "            x = self.dropout(x)\n",
    "        x = self.activation(x)\n",
    "        return x\n",
    "\n",
    "class ExpandingBlock(nn.Module):\n",
    "    '''\n",
    "    ExpandingBlock Class:\n",
    "    Performs an upsampling, a convolution, a concatenation of its two inputs,\n",
    "    followed by two more convolutions with optional dropout\n",
    "    Values:\n",
    "        input_channels: the number of channels to expect from a given input\n",
    "    '''\n",
    "    def __init__(self, input_channels, use_dropout=False, use_bn=True):\n",
    "        super(ExpandingBlock, self).__init__()\n",
    "        self.upsample = nn.Upsample(scale_factor=2)\n",
    "        self.conv1 = nn.Conv1d(input_channels, input_channels // 2, kernel_size=3, padding=1)\n",
    "        self.conv2 = nn.Conv1d(input_channels, input_channels // 2, kernel_size=3, padding=1)\n",
    "        self.conv3 = nn.Conv1d(input_channels // 2, input_channels // 2, kernel_size=3, padding=1)\n",
    "        if use_bn:\n",
    "            self.batchnorm = nn.BatchNorm1d(input_channels // 2)\n",
    "        self.use_bn = use_bn\n",
    "        self.activation = nn.ReLU()\n",
    "        if use_dropout:\n",
    "            self.dropout = nn.Dropout()\n",
    "        self.use_dropout = use_dropout\n",
    "\n",
    "    def forward(self, x, skip_con_x):\n",
    "        '''\n",
    "        Function for completing a forward pass of ExpandingBlock: \n",
    "        Given an image tensor, completes an expanding block and returns the transformed tensor.\n",
    "        Parameters:\n",
    "            x: image tensor of shape (batch size, channels, height, width)\n",
    "            skip_con_x: the image tensor from the contracting path (from the opposing block of x)\n",
    "                    for the skip connection\n",
    "        '''\n",
    "        x = self.upsample(x)\n",
    "        x = self.conv1(x)\n",
    "        #skip_con_x = crop(skip_con_x, x.shape)\n",
    "        x = torch.cat([x, skip_con_x], axis=1)\n",
    "        x = self.conv2(x)\n",
    "        if self.use_bn:\n",
    "            x = self.batchnorm(x)\n",
    "        if self.use_dropout:\n",
    "            x = self.dropout(x)\n",
    "        x = self.activation(x)\n",
    "        x = self.conv3(x)\n",
    "        if self.use_bn:\n",
    "            x = self.batchnorm(x)\n",
    "        if self.use_dropout:\n",
    "            x = self.dropout(x)\n",
    "        x = self.activation(x)\n",
    "        return x\n",
    "\n",
    "\n",
    "class FeatureMapBlock0(nn.Module):\n",
    "    '''\n",
    "    FeatureMapBlock Class\n",
    "    The first layers of a U-Net - \n",
    "    maps each pixel to a pixel with the correct number of output dimensions\n",
    "    using a 1x1 convolution.\n",
    "    Values:\n",
    "        input_channels: the number of channels to expect from a given input\n",
    "        output_channels: the number of channels to expect for a given output\n",
    "    '''\n",
    "    def __init__(self, input_channels, output_channels):\n",
    "        super(FeatureMapBlock0, self).__init__()\n",
    "        self.conv1 = nn.Conv1d(input_channels, output_channels, kernel_size=3, padding=1)\n",
    "        self.conv2 = nn.Conv1d(output_channels, output_channels, kernel_size=3, padding=1)\n",
    "        self.activation = nn.LeakyReLU(0.2)\n",
    "        self.batchnorm = nn.BatchNorm1d(output_channels)\n",
    "\n",
    "    def forward(self, x):\n",
    "        '''\n",
    "        Function for completing a forward pass of FeatureMapBlock: \n",
    "        Given an image tensor, returns it mapped to the desired number of channels.\n",
    "        Parameters:\n",
    "            x: image tensor of shape (batch size, channels, height, width)\n",
    "        '''\n",
    "        x = self.conv1(x)\n",
    "        x = self.batchnorm(x)\n",
    "        x = self.activation(x)\n",
    "        x = self.conv2(x)\n",
    "        x = self.batchnorm(x)\n",
    "        x = self.activation(x)\n",
    "        return x   \n",
    "    \n",
    "class FeatureMapBlock(nn.Module):\n",
    "    '''\n",
    "    FeatureMapBlock Class\n",
    "    The final layer of a U-Net - \n",
    "    maps each pixel to a pixel with the correct number of output dimensions\n",
    "    using a 1x1 convolution.\n",
    "    Values:\n",
    "        input_channels: the number of channels to expect from a given input\n",
    "        output_channels: the number of channels to expect for a given output\n",
    "    '''\n",
    "    def __init__(self, input_channels, output_channels):\n",
    "        super(FeatureMapBlock, self).__init__()\n",
    "        self.conv = nn.Conv1d(input_channels, output_channels, kernel_size=1)\n",
    "\n",
    "    def forward(self, x):\n",
    "        '''\n",
    "        Function for completing a forward pass of FeatureMapBlock: \n",
    "        Given an image tensor, returns it mapped to the desired number of channels.\n",
    "        Parameters:\n",
    "            x: image tensor of shape (batch size, channels, height, width)\n",
    "        '''\n",
    "        x = self.conv(x)\n",
    "        return x\n",
    "\n",
    "class UNet(nn.Module):\n",
    "    '''\n",
    "    UNet Class\n",
    "    A series of 4 contracting blocks followed by 4 expanding blocks to \n",
    "    transform an input image into the corresponding paired image, with an upfeature\n",
    "    layer at the start and a downfeature layer at the end.\n",
    "    Values:\n",
    "        input_channels: the number of channels to expect from a given input\n",
    "        output_channels: the number of channels to expect for a given output\n",
    "    '''\n",
    "    def __init__(self, input_channels, output_channels, hidden_channels=64):\n",
    "        super(UNet, self).__init__()\n",
    "        self.maxpool = nn.MaxPool1d(kernel_size=2, stride=2)\n",
    "        self.contract1 = FeatureMapBlock0(input_channels, hidden_channels)\n",
    "        self.contract2 = ContractingBlock(hidden_channels, use_dropout=True)\n",
    "        self.contract3 = ContractingBlock(hidden_channels * 2, use_dropout=True)\n",
    "        self.contract4 = ContractingBlock(hidden_channels * 4)\n",
    "        self.expand1 = ExpandingBlock(hidden_channels * 8)\n",
    "        self.expand2 = ExpandingBlock(hidden_channels * 4)\n",
    "        self.expand3 = ExpandingBlock(hidden_channels * 2)\n",
    "        self.downfeature = FeatureMapBlock(hidden_channels, output_channels)\n",
    "        self.sigmoid = torch.nn.Sigmoid()\n",
    "\n",
    "    def forward(self, x):\n",
    "        '''\n",
    "        Function for completing a forward pass of UNet: \n",
    "        Given an image tensor, passes it through U-Net and returns the output.\n",
    "        Parameters:\n",
    "            x: image tensor of shape (batch size, channels, height, width)\n",
    "        '''\n",
    "        x1 = self.contract1(x)\n",
    "        x2 = self.maxpool(x1)\n",
    "        x3 = self.contract2(x2)\n",
    "        x4 = self.maxpool(x3)\n",
    "        x5 = self.contract3(x4)\n",
    "        x6 = self.maxpool(x5)\n",
    "        x7 = self.contract4(x6)\n",
    "        x8 = self.expand1(x7, x5)\n",
    "        x9 = self.expand2(x8, x3)\n",
    "        x10 = self.expand3(x9, x1)\n",
    "        xn = self.downfeature(x10)\n",
    "        #return self.sigmoid(xn)\n",
    "        return xn"
   ]
  },
  {
   "cell_type": "code",
   "execution_count": 5,
   "id": "76bf7659",
   "metadata": {},
   "outputs": [],
   "source": [
    "import torch.nn.functional as F\n",
    "# New parameters\n",
    "recon_criterion = nn.MSELoss()\n",
    "\n",
    "n_epochs = 100\n",
    "input_dim = 17\n",
    "real_dim = 17\n",
    "display_step = 1000\n",
    "batch_size = 32\n",
    "lr = 0.002\n",
    "#target_shape = 100\n",
    "device = 'cuda'"
   ]
  },
  {
   "cell_type": "markdown",
   "id": "193a636b",
   "metadata": {},
   "source": [
    "import data"
   ]
  },
  {
   "cell_type": "code",
   "execution_count": 6,
   "id": "745791cb",
   "metadata": {},
   "outputs": [],
   "source": [
    "class GetData(torch.utils.data.Dataset):\n",
    "    \n",
    "    def __init__(self, data1, data2):\n",
    "        self.data1 = data1\n",
    "        self.data2 = data2\n",
    "    \n",
    "    def __getitem__(self, index):\n",
    "        data1 = self.data1[index]\n",
    "        data2 = self.data2[index]\n",
    "        return data1, data2\n",
    "    \n",
    "    def __len__(self):\n",
    "        return len(self.data1)"
   ]
  },
  {
   "cell_type": "code",
   "execution_count": 7,
   "id": "0735585e",
   "metadata": {},
   "outputs": [],
   "source": [
    "gen = UNet(input_dim, real_dim).to(device)\n",
    "gen_opt = torch.optim.Adam(gen.parameters(), lr=lr)\n",
    "\n",
    "def weights_init(m):\n",
    "    if isinstance(m, nn.Conv1d) or isinstance(m, nn.ConvTranspose1d):\n",
    "        torch.nn.init.normal_(m.weight, 0.0, 0.02)\n",
    "    if isinstance(m, nn.BatchNorm1d):\n",
    "        torch.nn.init.normal_(m.weight, 0.0, 0.02)\n",
    "        torch.nn.init.constant_(m.bias, 0)\n",
    "\n",
    "gen = gen.apply(weights_init)"
   ]
  },
  {
   "cell_type": "code",
   "execution_count": 8,
   "id": "acce7af2",
   "metadata": {},
   "outputs": [],
   "source": [
    "# UNQ_C2 (UNIQUE CELL IDENTIFIER, DO NOT EDIT)\n",
    "# GRADED CLASS: get_gen_loss\n",
    "def get_gen_loss(gen, real, condition, recon_criterion):\n",
    "    fake = gen(condition)\n",
    "    return recon_criterion(real, fake)"
   ]
  },
  {
   "cell_type": "code",
   "execution_count": 13,
   "id": "935fa3b0",
   "metadata": {
    "scrolled": true
   },
   "outputs": [
    {
     "data": {
      "application/vnd.jupyter.widget-view+json": {
       "model_id": "b65febe8edfb41b3a94fa56f3e50584c",
       "version_major": 2,
       "version_minor": 0
      },
      "text/plain": [
       "  0%|          | 0/517 [00:00<?, ?it/s]"
      ]
     },
     "metadata": {},
     "output_type": "display_data"
    },
    {
     "name": "stdout",
     "output_type": "stream",
     "text": [
      "Sub07 -> Sub08: Epoch 1: EEG2EEG loss: 0.9251175586213457, Corr : 0.3559150615325467\n"
     ]
    },
    {
     "data": {
      "application/vnd.jupyter.widget-view+json": {
       "model_id": "423b5d030c5044abaa4db3d56c02ce56",
       "version_major": 2,
       "version_minor": 0
      },
      "text/plain": [
       "  0%|          | 0/517 [00:00<?, ?it/s]"
      ]
     },
     "metadata": {},
     "output_type": "display_data"
    },
    {
     "name": "stdout",
     "output_type": "stream",
     "text": [
      "Sub07 -> Sub08: Epoch 2: EEG2EEG loss: 0.932612998803764, Corr : 0.6659637427128599\n"
     ]
    },
    {
     "data": {
      "application/vnd.jupyter.widget-view+json": {
       "model_id": "9c03e584b7fe41c4b18c39971c1fb4c7",
       "version_major": 2,
       "version_minor": 0
      },
      "text/plain": [
       "  0%|          | 0/517 [00:00<?, ?it/s]"
      ]
     },
     "metadata": {},
     "output_type": "display_data"
    },
    {
     "name": "stdout",
     "output_type": "stream",
     "text": [
      "Sub07 -> Sub08: Epoch 3: EEG2EEG loss: 0.9165624638936506, Corr : 0.6755654666620189\n"
     ]
    },
    {
     "data": {
      "application/vnd.jupyter.widget-view+json": {
       "model_id": "910ba228ab2f4efd8d0b820eaba2ebe6",
       "version_major": 2,
       "version_minor": 0
      },
      "text/plain": [
       "  0%|          | 0/517 [00:00<?, ?it/s]"
      ]
     },
     "metadata": {},
     "output_type": "display_data"
    },
    {
     "name": "stdout",
     "output_type": "stream",
     "text": [
      "Sub07 -> Sub08: Epoch 4: EEG2EEG loss: 0.9132339848309928, Corr : 0.664270608420093\n"
     ]
    },
    {
     "data": {
      "application/vnd.jupyter.widget-view+json": {
       "model_id": "8ed1c1a3021541308cc88db8878891a4",
       "version_major": 2,
       "version_minor": 0
      },
      "text/plain": [
       "  0%|          | 0/517 [00:00<?, ?it/s]"
      ]
     },
     "metadata": {},
     "output_type": "display_data"
    },
    {
     "name": "stdout",
     "output_type": "stream",
     "text": [
      "Sub07 -> Sub08: Epoch 5: EEG2EEG loss: 0.9105598714411605, Corr : 0.6748279785411735\n"
     ]
    },
    {
     "data": {
      "application/vnd.jupyter.widget-view+json": {
       "model_id": "f70287d5b350497abdc07dd7239a16b7",
       "version_major": 2,
       "version_minor": 0
      },
      "text/plain": [
       "  0%|          | 0/517 [00:00<?, ?it/s]"
      ]
     },
     "metadata": {},
     "output_type": "display_data"
    },
    {
     "name": "stdout",
     "output_type": "stream",
     "text": [
      "Sub07 -> Sub08: Epoch 6: EEG2EEG loss: 0.908169828254434, Corr : 0.6828237234846083\n"
     ]
    },
    {
     "data": {
      "application/vnd.jupyter.widget-view+json": {
       "model_id": "c6290470ae904b199f6ba7cd95664f90",
       "version_major": 2,
       "version_minor": 0
      },
      "text/plain": [
       "  0%|          | 0/517 [00:00<?, ?it/s]"
      ]
     },
     "metadata": {},
     "output_type": "display_data"
    },
    {
     "name": "stdout",
     "output_type": "stream",
     "text": [
      "Sub07 -> Sub08: Epoch 7: EEG2EEG loss: 0.9073673391019352, Corr : 0.6867603416550553\n"
     ]
    },
    {
     "data": {
      "application/vnd.jupyter.widget-view+json": {
       "model_id": "a9f12269ca1a418a9a730f060f2b32da",
       "version_major": 2,
       "version_minor": 0
      },
      "text/plain": [
       "  0%|          | 0/517 [00:00<?, ?it/s]"
      ]
     },
     "metadata": {},
     "output_type": "display_data"
    },
    {
     "name": "stdout",
     "output_type": "stream",
     "text": [
      "Sub07 -> Sub08: Epoch 8: EEG2EEG loss: 0.9058970019250128, Corr : 0.683210064166783\n"
     ]
    },
    {
     "data": {
      "application/vnd.jupyter.widget-view+json": {
       "model_id": "8601c10a81c940c2abebd775f28f867a",
       "version_major": 2,
       "version_minor": 0
      },
      "text/plain": [
       "  0%|          | 0/517 [00:00<?, ?it/s]"
      ]
     },
     "metadata": {},
     "output_type": "display_data"
    },
    {
     "name": "stdout",
     "output_type": "stream",
     "text": [
      "Sub07 -> Sub08: Epoch 9: EEG2EEG loss: 0.9051836473107108, Corr : 0.6919687600432827\n"
     ]
    },
    {
     "data": {
      "application/vnd.jupyter.widget-view+json": {
       "model_id": "b29a6ee3257346d7b43a4d8850498b04",
       "version_major": 2,
       "version_minor": 0
      },
      "text/plain": [
       "  0%|          | 0/517 [00:00<?, ?it/s]"
      ]
     },
     "metadata": {},
     "output_type": "display_data"
    },
    {
     "name": "stdout",
     "output_type": "stream",
     "text": [
      "Sub07 -> Sub08: Epoch 10: EEG2EEG loss: 0.9047376154930956, Corr : 0.6764126320979821\n"
     ]
    },
    {
     "data": {
      "application/vnd.jupyter.widget-view+json": {
       "model_id": "142c2c95eb0349cab579cdfba2bc3af3",
       "version_major": 2,
       "version_minor": 0
      },
      "text/plain": [
       "  0%|          | 0/517 [00:00<?, ?it/s]"
      ]
     },
     "metadata": {},
     "output_type": "display_data"
    },
    {
     "name": "stdout",
     "output_type": "stream",
     "text": [
      "Sub07 -> Sub08: Epoch 11: EEG2EEG loss: 0.9051853179701062, Corr : 0.6997838945567535\n"
     ]
    },
    {
     "data": {
      "application/vnd.jupyter.widget-view+json": {
       "model_id": "5e6b12b0d54f43ce99c3b06189bef8ac",
       "version_major": 2,
       "version_minor": 0
      },
      "text/plain": [
       "  0%|          | 0/517 [00:00<?, ?it/s]"
      ]
     },
     "metadata": {},
     "output_type": "display_data"
    },
    {
     "name": "stdout",
     "output_type": "stream",
     "text": [
      "Sub07 -> Sub08: Epoch 12: EEG2EEG loss: 0.9041193611847824, Corr : 0.6992774762693398\n"
     ]
    },
    {
     "data": {
      "application/vnd.jupyter.widget-view+json": {
       "model_id": "31d310209a5d43ebbe5bb8a38d8c223f",
       "version_major": 2,
       "version_minor": 0
      },
      "text/plain": [
       "  0%|          | 0/517 [00:00<?, ?it/s]"
      ]
     },
     "metadata": {},
     "output_type": "display_data"
    },
    {
     "name": "stdout",
     "output_type": "stream",
     "text": [
      "Sub07 -> Sub08: Epoch 13: EEG2EEG loss: 0.9041448238970463, Corr : 0.696464581068474\n"
     ]
    },
    {
     "data": {
      "application/vnd.jupyter.widget-view+json": {
       "model_id": "1616f2c66b5b4776850c369e18a8201b",
       "version_major": 2,
       "version_minor": 0
      },
      "text/plain": [
       "  0%|          | 0/517 [00:00<?, ?it/s]"
      ]
     },
     "metadata": {},
     "output_type": "display_data"
    },
    {
     "name": "stdout",
     "output_type": "stream",
     "text": [
      "Sub07 -> Sub08: Epoch 14: EEG2EEG loss: 0.9031866018730621, Corr : 0.6866616994781021\n"
     ]
    },
    {
     "data": {
      "application/vnd.jupyter.widget-view+json": {
       "model_id": "81e353cb886149379a5ab181c07668b2",
       "version_major": 2,
       "version_minor": 0
      },
      "text/plain": [
       "  0%|          | 0/517 [00:00<?, ?it/s]"
      ]
     },
     "metadata": {},
     "output_type": "display_data"
    },
    {
     "name": "stdout",
     "output_type": "stream",
     "text": [
      "Sub07 -> Sub08: Epoch 15: EEG2EEG loss: 0.9032906973500316, Corr : 0.6930125692746975\n"
     ]
    },
    {
     "data": {
      "application/vnd.jupyter.widget-view+json": {
       "model_id": "00f2ed0bc23843e5baceb03af8833576",
       "version_major": 2,
       "version_minor": 0
      },
      "text/plain": [
       "  0%|          | 0/517 [00:00<?, ?it/s]"
      ]
     },
     "metadata": {},
     "output_type": "display_data"
    },
    {
     "name": "stdout",
     "output_type": "stream",
     "text": [
      "Sub07 -> Sub08: Epoch 16: EEG2EEG loss: 0.9035281640994479, Corr : 0.6985752471777675\n"
     ]
    },
    {
     "data": {
      "application/vnd.jupyter.widget-view+json": {
       "model_id": "6327754cf84340f8b03fcc7780d4779e",
       "version_major": 2,
       "version_minor": 0
      },
      "text/plain": [
       "  0%|          | 0/517 [00:00<?, ?it/s]"
      ]
     },
     "metadata": {},
     "output_type": "display_data"
    },
    {
     "name": "stdout",
     "output_type": "stream",
     "text": [
      "Sub07 -> Sub08: Epoch 17: EEG2EEG loss: 0.9036329492378973, Corr : 0.7010157951859523\n"
     ]
    },
    {
     "data": {
      "application/vnd.jupyter.widget-view+json": {
       "model_id": "5f54836cbc3740bc8ca64125005d528e",
       "version_major": 2,
       "version_minor": 0
      },
      "text/plain": [
       "  0%|          | 0/517 [00:00<?, ?it/s]"
      ]
     },
     "metadata": {},
     "output_type": "display_data"
    },
    {
     "name": "stdout",
     "output_type": "stream",
     "text": [
      "Sub07 -> Sub08: Epoch 18: EEG2EEG loss: 0.9024773290816773, Corr : 0.6983796774300691\n"
     ]
    },
    {
     "data": {
      "application/vnd.jupyter.widget-view+json": {
       "model_id": "6d209421691547f4a32c3faf1f9b085d",
       "version_major": 2,
       "version_minor": 0
      },
      "text/plain": [
       "  0%|          | 0/517 [00:00<?, ?it/s]"
      ]
     },
     "metadata": {},
     "output_type": "display_data"
    },
    {
     "name": "stdout",
     "output_type": "stream",
     "text": [
      "Sub07 -> Sub08: Epoch 19: EEG2EEG loss: 0.9023420097057778, Corr : 0.6934159563376069\n"
     ]
    },
    {
     "data": {
      "application/vnd.jupyter.widget-view+json": {
       "model_id": "68a9023b31134bd8a2582893b1c995da",
       "version_major": 2,
       "version_minor": 0
      },
      "text/plain": [
       "  0%|          | 0/517 [00:00<?, ?it/s]"
      ]
     },
     "metadata": {},
     "output_type": "display_data"
    },
    {
     "name": "stdout",
     "output_type": "stream",
     "text": [
      "Sub07 -> Sub08: Epoch 20: EEG2EEG loss: 0.9013331895640094, Corr : 0.7006210165320176\n"
     ]
    },
    {
     "data": {
      "application/vnd.jupyter.widget-view+json": {
       "model_id": "70cda5f66c39440db886be3be513b9d8",
       "version_major": 2,
       "version_minor": 0
      },
      "text/plain": [
       "  0%|          | 0/517 [00:00<?, ?it/s]"
      ]
     },
     "metadata": {},
     "output_type": "display_data"
    },
    {
     "name": "stdout",
     "output_type": "stream",
     "text": [
      "Sub07 -> Sub08: Epoch 21: EEG2EEG loss: 0.9020295093552979, Corr : 0.7025539670094895\n"
     ]
    },
    {
     "data": {
      "application/vnd.jupyter.widget-view+json": {
       "model_id": "bed821679dbe4c2dab18da03a43f4933",
       "version_major": 2,
       "version_minor": 0
      },
      "text/plain": [
       "  0%|          | 0/517 [00:00<?, ?it/s]"
      ]
     },
     "metadata": {},
     "output_type": "display_data"
    },
    {
     "name": "stdout",
     "output_type": "stream",
     "text": [
      "Sub07 -> Sub08: Epoch 22: EEG2EEG loss: 0.9012777230034023, Corr : 0.7001054808296777\n"
     ]
    },
    {
     "data": {
      "application/vnd.jupyter.widget-view+json": {
       "model_id": "42abfe6b16dc40efadc86537338a4b7e",
       "version_major": 2,
       "version_minor": 0
      },
      "text/plain": [
       "  0%|          | 0/517 [00:00<?, ?it/s]"
      ]
     },
     "metadata": {},
     "output_type": "display_data"
    },
    {
     "name": "stdout",
     "output_type": "stream",
     "text": [
      "Sub07 -> Sub08: Epoch 23: EEG2EEG loss: 0.901124673954984, Corr : 0.6878575082448819\n"
     ]
    },
    {
     "data": {
      "application/vnd.jupyter.widget-view+json": {
       "model_id": "deb223debf5a40efaa73d0323b83d9fb",
       "version_major": 2,
       "version_minor": 0
      },
      "text/plain": [
       "  0%|          | 0/517 [00:00<?, ?it/s]"
      ]
     },
     "metadata": {},
     "output_type": "display_data"
    },
    {
     "name": "stdout",
     "output_type": "stream",
     "text": [
      "Sub07 -> Sub08: Epoch 24: EEG2EEG loss: 0.9012341053158448, Corr : 0.7063353874517521\n"
     ]
    },
    {
     "data": {
      "application/vnd.jupyter.widget-view+json": {
       "model_id": "384f78bb819e4ef6a3ffcc62000ce3f5",
       "version_major": 2,
       "version_minor": 0
      },
      "text/plain": [
       "  0%|          | 0/517 [00:00<?, ?it/s]"
      ]
     },
     "metadata": {},
     "output_type": "display_data"
    },
    {
     "name": "stdout",
     "output_type": "stream",
     "text": [
      "Sub07 -> Sub08: Epoch 25: EEG2EEG loss: 0.9014715279094024, Corr : 0.7048917230055162\n"
     ]
    },
    {
     "data": {
      "application/vnd.jupyter.widget-view+json": {
       "model_id": "e1e6802e7e314160a687676a133b9147",
       "version_major": 2,
       "version_minor": 0
      },
      "text/plain": [
       "  0%|          | 0/517 [00:00<?, ?it/s]"
      ]
     },
     "metadata": {},
     "output_type": "display_data"
    },
    {
     "name": "stdout",
     "output_type": "stream",
     "text": [
      "Sub07 -> Sub08: Epoch 26: EEG2EEG loss: 0.9011505199470188, Corr : 0.6954085956111101\n"
     ]
    },
    {
     "data": {
      "application/vnd.jupyter.widget-view+json": {
       "model_id": "8b9927c4b6084e3bb72cf8926b619d72",
       "version_major": 2,
       "version_minor": 0
      },
      "text/plain": [
       "  0%|          | 0/517 [00:00<?, ?it/s]"
      ]
     },
     "metadata": {},
     "output_type": "display_data"
    },
    {
     "name": "stdout",
     "output_type": "stream",
     "text": [
      "Sub07 -> Sub08: Epoch 27: EEG2EEG loss: 0.9009805883153034, Corr : 0.7103058307042304\n"
     ]
    },
    {
     "data": {
      "application/vnd.jupyter.widget-view+json": {
       "model_id": "87ba03d43033462dae80c3999e19bdd7",
       "version_major": 2,
       "version_minor": 0
      },
      "text/plain": [
       "  0%|          | 0/517 [00:00<?, ?it/s]"
      ]
     },
     "metadata": {},
     "output_type": "display_data"
    },
    {
     "name": "stdout",
     "output_type": "stream",
     "text": [
      "Sub07 -> Sub08: Epoch 28: EEG2EEG loss: 0.9011442336169156, Corr : 0.7001860248470225\n"
     ]
    },
    {
     "data": {
      "application/vnd.jupyter.widget-view+json": {
       "model_id": "a9cadd2359cc4bc9919d738eef697cfe",
       "version_major": 2,
       "version_minor": 0
      },
      "text/plain": [
       "  0%|          | 0/517 [00:00<?, ?it/s]"
      ]
     },
     "metadata": {},
     "output_type": "display_data"
    },
    {
     "name": "stdout",
     "output_type": "stream",
     "text": [
      "Sub07 -> Sub08: Epoch 29: EEG2EEG loss: 0.9011346980842908, Corr : 0.706270559284249\n"
     ]
    },
    {
     "data": {
      "application/vnd.jupyter.widget-view+json": {
       "model_id": "796514882058448eb078ada436c949b8",
       "version_major": 2,
       "version_minor": 0
      },
      "text/plain": [
       "  0%|          | 0/517 [00:00<?, ?it/s]"
      ]
     },
     "metadata": {},
     "output_type": "display_data"
    },
    {
     "name": "stdout",
     "output_type": "stream",
     "text": [
      "Sub07 -> Sub08: Epoch 30: EEG2EEG loss: 0.9007553198812548, Corr : 0.7027745323424738\n"
     ]
    },
    {
     "data": {
      "application/vnd.jupyter.widget-view+json": {
       "model_id": "3f16c40a9202488aad4f3dc9d7299155",
       "version_major": 2,
       "version_minor": 0
      },
      "text/plain": [
       "  0%|          | 0/517 [00:00<?, ?it/s]"
      ]
     },
     "metadata": {},
     "output_type": "display_data"
    },
    {
     "name": "stdout",
     "output_type": "stream",
     "text": [
      "Sub07 -> Sub08: Epoch 31: EEG2EEG loss: 0.8999458945696773, Corr : 0.7019222591748986\n"
     ]
    },
    {
     "data": {
      "application/vnd.jupyter.widget-view+json": {
       "model_id": "df348bff882f4ecc9cbef9f2559dd554",
       "version_major": 2,
       "version_minor": 0
      },
      "text/plain": [
       "  0%|          | 0/517 [00:00<?, ?it/s]"
      ]
     },
     "metadata": {},
     "output_type": "display_data"
    },
    {
     "name": "stdout",
     "output_type": "stream",
     "text": [
      "Sub07 -> Sub08: Epoch 32: EEG2EEG loss: 0.8998146954080815, Corr : 0.7033752070955445\n"
     ]
    },
    {
     "data": {
      "application/vnd.jupyter.widget-view+json": {
       "model_id": "39c29ec216c946079b0a7e774e9be9ed",
       "version_major": 2,
       "version_minor": 0
      },
      "text/plain": [
       "  0%|          | 0/517 [00:00<?, ?it/s]"
      ]
     },
     "metadata": {},
     "output_type": "display_data"
    },
    {
     "name": "stdout",
     "output_type": "stream",
     "text": [
      "Sub07 -> Sub08: Epoch 33: EEG2EEG loss: 0.9001890218004267, Corr : 0.710484821921659\n"
     ]
    },
    {
     "data": {
      "application/vnd.jupyter.widget-view+json": {
       "model_id": "6709ae241bbb47b4864d9aa653620798",
       "version_major": 2,
       "version_minor": 0
      },
      "text/plain": [
       "  0%|          | 0/517 [00:00<?, ?it/s]"
      ]
     },
     "metadata": {},
     "output_type": "display_data"
    },
    {
     "name": "stdout",
     "output_type": "stream",
     "text": [
      "Sub07 -> Sub08: Epoch 34: EEG2EEG loss: 0.9001307610847503, Corr : 0.7035444741463678\n"
     ]
    },
    {
     "data": {
      "application/vnd.jupyter.widget-view+json": {
       "model_id": "828543a23ba245e4ba60c93003f07a4f",
       "version_major": 2,
       "version_minor": 0
      },
      "text/plain": [
       "  0%|          | 0/517 [00:00<?, ?it/s]"
      ]
     },
     "metadata": {},
     "output_type": "display_data"
    },
    {
     "name": "stdout",
     "output_type": "stream",
     "text": [
      "Sub07 -> Sub08: Epoch 35: EEG2EEG loss: 0.900273003130863, Corr : 0.7024162243678544\n"
     ]
    },
    {
     "data": {
      "application/vnd.jupyter.widget-view+json": {
       "model_id": "56bed6259f274404941abbf8d016a7ec",
       "version_major": 2,
       "version_minor": 0
      },
      "text/plain": [
       "  0%|          | 0/517 [00:00<?, ?it/s]"
      ]
     },
     "metadata": {},
     "output_type": "display_data"
    },
    {
     "name": "stdout",
     "output_type": "stream",
     "text": [
      "Sub07 -> Sub08: Epoch 36: EEG2EEG loss: 0.8990508655745472, Corr : 0.709553871469378\n"
     ]
    },
    {
     "data": {
      "application/vnd.jupyter.widget-view+json": {
       "model_id": "c373aefa1e2640fbaf1dd497ae3d764b",
       "version_major": 2,
       "version_minor": 0
      },
      "text/plain": [
       "  0%|          | 0/517 [00:00<?, ?it/s]"
      ]
     },
     "metadata": {},
     "output_type": "display_data"
    },
    {
     "name": "stdout",
     "output_type": "stream",
     "text": [
      "Sub07 -> Sub08: Epoch 37: EEG2EEG loss: 0.8993355522303332, Corr : 0.6964440417451134\n"
     ]
    },
    {
     "data": {
      "application/vnd.jupyter.widget-view+json": {
       "model_id": "d5869e13a1d64280bd3e9fba4fa381eb",
       "version_major": 2,
       "version_minor": 0
      },
      "text/plain": [
       "  0%|          | 0/517 [00:00<?, ?it/s]"
      ]
     },
     "metadata": {},
     "output_type": "display_data"
    },
    {
     "name": "stdout",
     "output_type": "stream",
     "text": [
      "Sub07 -> Sub08: Epoch 38: EEG2EEG loss: 0.8993058571271324, Corr : 0.7015033407844166\n"
     ]
    },
    {
     "data": {
      "application/vnd.jupyter.widget-view+json": {
       "model_id": "8c08f4c3d1ce4dc19855333d42b9f64a",
       "version_major": 2,
       "version_minor": 0
      },
      "text/plain": [
       "  0%|          | 0/517 [00:00<?, ?it/s]"
      ]
     },
     "metadata": {},
     "output_type": "display_data"
    },
    {
     "name": "stdout",
     "output_type": "stream",
     "text": [
      "Sub07 -> Sub08: Epoch 39: EEG2EEG loss: 0.8995622282332563, Corr : 0.7141306481508765\n"
     ]
    },
    {
     "data": {
      "application/vnd.jupyter.widget-view+json": {
       "model_id": "9bbc7b8f1ca747059b5eaf4d02019c40",
       "version_major": 2,
       "version_minor": 0
      },
      "text/plain": [
       "  0%|          | 0/517 [00:00<?, ?it/s]"
      ]
     },
     "metadata": {},
     "output_type": "display_data"
    },
    {
     "name": "stdout",
     "output_type": "stream",
     "text": [
      "Sub07 -> Sub08: Epoch 40: EEG2EEG loss: 0.8988117874821565, Corr : 0.7097580306085816\n"
     ]
    },
    {
     "data": {
      "application/vnd.jupyter.widget-view+json": {
       "model_id": "db155b2cea60459a86b597870e06662a",
       "version_major": 2,
       "version_minor": 0
      },
      "text/plain": [
       "  0%|          | 0/517 [00:00<?, ?it/s]"
      ]
     },
     "metadata": {},
     "output_type": "display_data"
    },
    {
     "name": "stdout",
     "output_type": "stream",
     "text": [
      "Sub07 -> Sub08: Epoch 41: EEG2EEG loss: 0.8990288365279222, Corr : 0.7011719037455677\n"
     ]
    },
    {
     "data": {
      "application/vnd.jupyter.widget-view+json": {
       "model_id": "7c86a2781fcc4f85902b52d4bd27e8fa",
       "version_major": 2,
       "version_minor": 0
      },
      "text/plain": [
       "  0%|          | 0/517 [00:00<?, ?it/s]"
      ]
     },
     "metadata": {},
     "output_type": "display_data"
    },
    {
     "name": "stdout",
     "output_type": "stream",
     "text": [
      "Sub07 -> Sub08: Epoch 42: EEG2EEG loss: 0.8999267460299184, Corr : 0.7111128611672419\n"
     ]
    },
    {
     "data": {
      "application/vnd.jupyter.widget-view+json": {
       "model_id": "d4202a2112a441e2961fea17729275ef",
       "version_major": 2,
       "version_minor": 0
      },
      "text/plain": [
       "  0%|          | 0/517 [00:00<?, ?it/s]"
      ]
     },
     "metadata": {},
     "output_type": "display_data"
    },
    {
     "name": "stdout",
     "output_type": "stream",
     "text": [
      "Sub07 -> Sub08: Epoch 43: EEG2EEG loss: 0.8987837596373125, Corr : 0.719068605187741\n"
     ]
    },
    {
     "data": {
      "application/vnd.jupyter.widget-view+json": {
       "model_id": "f9adedeed315481d8eab08875fe6e6ef",
       "version_major": 2,
       "version_minor": 0
      },
      "text/plain": [
       "  0%|          | 0/517 [00:00<?, ?it/s]"
      ]
     },
     "metadata": {},
     "output_type": "display_data"
    },
    {
     "name": "stdout",
     "output_type": "stream",
     "text": [
      "Sub07 -> Sub08: Epoch 44: EEG2EEG loss: 0.8985825499206263, Corr : 0.7022080054153299\n"
     ]
    },
    {
     "data": {
      "application/vnd.jupyter.widget-view+json": {
       "model_id": "f8b91ec7986542cc8f120c05d778c5ef",
       "version_major": 2,
       "version_minor": 0
      },
      "text/plain": [
       "  0%|          | 0/517 [00:00<?, ?it/s]"
      ]
     },
     "metadata": {},
     "output_type": "display_data"
    },
    {
     "name": "stdout",
     "output_type": "stream",
     "text": [
      "Sub07 -> Sub08: Epoch 45: EEG2EEG loss: 0.8984849714679459, Corr : 0.7074965528551226\n"
     ]
    },
    {
     "data": {
      "application/vnd.jupyter.widget-view+json": {
       "model_id": "9b20a53eeedc4059b4e4c170008f5dbb",
       "version_major": 2,
       "version_minor": 0
      },
      "text/plain": [
       "  0%|          | 0/517 [00:00<?, ?it/s]"
      ]
     },
     "metadata": {},
     "output_type": "display_data"
    },
    {
     "name": "stdout",
     "output_type": "stream",
     "text": [
      "Sub07 -> Sub08: Epoch 46: EEG2EEG loss: 0.8982477004800129, Corr : 0.7166544925518247\n"
     ]
    },
    {
     "data": {
      "application/vnd.jupyter.widget-view+json": {
       "model_id": "9962b19b83964dba90c57bbd43575121",
       "version_major": 2,
       "version_minor": 0
      },
      "text/plain": [
       "  0%|          | 0/517 [00:00<?, ?it/s]"
      ]
     },
     "metadata": {},
     "output_type": "display_data"
    },
    {
     "name": "stdout",
     "output_type": "stream",
     "text": [
      "Sub07 -> Sub08: Epoch 47: EEG2EEG loss: 0.8981804973959231, Corr : 0.7195926182017646\n"
     ]
    },
    {
     "data": {
      "application/vnd.jupyter.widget-view+json": {
       "model_id": "9fb6665477804c83b877180c23becc78",
       "version_major": 2,
       "version_minor": 0
      },
      "text/plain": [
       "  0%|          | 0/517 [00:00<?, ?it/s]"
      ]
     },
     "metadata": {},
     "output_type": "display_data"
    },
    {
     "name": "stdout",
     "output_type": "stream",
     "text": [
      "Sub07 -> Sub08: Epoch 48: EEG2EEG loss: 0.8980231646527636, Corr : 0.7111351552773832\n"
     ]
    },
    {
     "data": {
      "application/vnd.jupyter.widget-view+json": {
       "model_id": "73d748547e904bc3a436004275aaa9b9",
       "version_major": 2,
       "version_minor": 0
      },
      "text/plain": [
       "  0%|          | 0/517 [00:00<?, ?it/s]"
      ]
     },
     "metadata": {},
     "output_type": "display_data"
    },
    {
     "name": "stdout",
     "output_type": "stream",
     "text": [
      "Sub07 -> Sub08: Epoch 49: EEG2EEG loss: 0.8981966252944916, Corr : 0.7102871534498965\n"
     ]
    },
    {
     "data": {
      "application/vnd.jupyter.widget-view+json": {
       "model_id": "846c091fc50a4e6f826be533d2817b4f",
       "version_major": 2,
       "version_minor": 0
      },
      "text/plain": [
       "  0%|          | 0/517 [00:00<?, ?it/s]"
      ]
     },
     "metadata": {},
     "output_type": "display_data"
    },
    {
     "name": "stdout",
     "output_type": "stream",
     "text": [
      "Sub07 -> Sub08: Epoch 50: EEG2EEG loss: 0.8982613367430247, Corr : 0.7075064221413309\n"
     ]
    },
    {
     "data": {
      "application/vnd.jupyter.widget-view+json": {
       "model_id": "9c2d6a0e1fb946c4be0c816a6654cc40",
       "version_major": 2,
       "version_minor": 0
      },
      "text/plain": [
       "  0%|          | 0/517 [00:00<?, ?it/s]"
      ]
     },
     "metadata": {},
     "output_type": "display_data"
    },
    {
     "name": "stdout",
     "output_type": "stream",
     "text": [
      "Sub07 -> Sub08: Epoch 51: EEG2EEG loss: 0.8977161515612205, Corr : 0.6771881911344011\n"
     ]
    },
    {
     "data": {
      "application/vnd.jupyter.widget-view+json": {
       "model_id": "364cb4df468e4d24b90aad3017974638",
       "version_major": 2,
       "version_minor": 0
      },
      "text/plain": [
       "  0%|          | 0/517 [00:00<?, ?it/s]"
      ]
     },
     "metadata": {},
     "output_type": "display_data"
    },
    {
     "name": "stdout",
     "output_type": "stream",
     "text": [
      "Sub07 -> Sub08: Epoch 52: EEG2EEG loss: 0.8974181304125537, Corr : 0.7172390061152565\n"
     ]
    },
    {
     "data": {
      "application/vnd.jupyter.widget-view+json": {
       "model_id": "8c42fddc84584952a349536c7ee1bb42",
       "version_major": 2,
       "version_minor": 0
      },
      "text/plain": [
       "  0%|          | 0/517 [00:00<?, ?it/s]"
      ]
     },
     "metadata": {},
     "output_type": "display_data"
    },
    {
     "name": "stdout",
     "output_type": "stream",
     "text": [
      "Sub07 -> Sub08: Epoch 53: EEG2EEG loss: 0.8972998292579872, Corr : 0.7203821460502623\n"
     ]
    },
    {
     "data": {
      "application/vnd.jupyter.widget-view+json": {
       "model_id": "f65fe956b9b748a0a32a55843950827d",
       "version_major": 2,
       "version_minor": 0
      },
      "text/plain": [
       "  0%|          | 0/517 [00:00<?, ?it/s]"
      ]
     },
     "metadata": {},
     "output_type": "display_data"
    },
    {
     "name": "stdout",
     "output_type": "stream",
     "text": [
      "Sub07 -> Sub08: Epoch 54: EEG2EEG loss: 0.8971396131833702, Corr : 0.7076970497443901\n"
     ]
    },
    {
     "data": {
      "application/vnd.jupyter.widget-view+json": {
       "model_id": "587a99ff8e944abf8e2aab82501b5c6b",
       "version_major": 2,
       "version_minor": 0
      },
      "text/plain": [
       "  0%|          | 0/517 [00:00<?, ?it/s]"
      ]
     },
     "metadata": {},
     "output_type": "display_data"
    },
    {
     "name": "stdout",
     "output_type": "stream",
     "text": [
      "Sub07 -> Sub08: Epoch 55: EEG2EEG loss: 0.8965083169291513, Corr : 0.7163576081221431\n"
     ]
    },
    {
     "data": {
      "application/vnd.jupyter.widget-view+json": {
       "model_id": "432b7c02666b4f60a16aa0661617a37a",
       "version_major": 2,
       "version_minor": 0
      },
      "text/plain": [
       "  0%|          | 0/517 [00:00<?, ?it/s]"
      ]
     },
     "metadata": {},
     "output_type": "display_data"
    },
    {
     "name": "stdout",
     "output_type": "stream",
     "text": [
      "Sub07 -> Sub08: Epoch 56: EEG2EEG loss: 0.8974313746914412, Corr : 0.7124777824635433\n"
     ]
    },
    {
     "data": {
      "application/vnd.jupyter.widget-view+json": {
       "model_id": "36eda77a35914d71b3c135771ca6bc68",
       "version_major": 2,
       "version_minor": 0
      },
      "text/plain": [
       "  0%|          | 0/517 [00:00<?, ?it/s]"
      ]
     },
     "metadata": {},
     "output_type": "display_data"
    },
    {
     "name": "stdout",
     "output_type": "stream",
     "text": [
      "Sub07 -> Sub08: Epoch 57: EEG2EEG loss: 0.8966745870256332, Corr : 0.7099836491280532\n"
     ]
    },
    {
     "data": {
      "application/vnd.jupyter.widget-view+json": {
       "model_id": "a9d16be263504b108bcae0e35f89c3f5",
       "version_major": 2,
       "version_minor": 0
      },
      "text/plain": [
       "  0%|          | 0/517 [00:00<?, ?it/s]"
      ]
     },
     "metadata": {},
     "output_type": "display_data"
    },
    {
     "name": "stdout",
     "output_type": "stream",
     "text": [
      "Sub07 -> Sub08: Epoch 58: EEG2EEG loss: 0.8973752873547994, Corr : 0.7107844006857086\n"
     ]
    },
    {
     "data": {
      "application/vnd.jupyter.widget-view+json": {
       "model_id": "4749e60e304d4511b312832b7eae3979",
       "version_major": 2,
       "version_minor": 0
      },
      "text/plain": [
       "  0%|          | 0/517 [00:00<?, ?it/s]"
      ]
     },
     "metadata": {},
     "output_type": "display_data"
    },
    {
     "name": "stdout",
     "output_type": "stream",
     "text": [
      "Sub07 -> Sub08: Epoch 59: EEG2EEG loss: 0.8965502666089705, Corr : 0.7199708008877765\n"
     ]
    },
    {
     "data": {
      "application/vnd.jupyter.widget-view+json": {
       "model_id": "0da10384b7c548c5b9d63bbe3d95ddad",
       "version_major": 2,
       "version_minor": 0
      },
      "text/plain": [
       "  0%|          | 0/517 [00:00<?, ?it/s]"
      ]
     },
     "metadata": {},
     "output_type": "display_data"
    },
    {
     "name": "stdout",
     "output_type": "stream",
     "text": [
      "Sub07 -> Sub08: Epoch 60: EEG2EEG loss: 0.8963648961637191, Corr : 0.7223167588478026\n"
     ]
    },
    {
     "data": {
      "application/vnd.jupyter.widget-view+json": {
       "model_id": "5f7cdd9b1e914108ab6a081a15a760bb",
       "version_major": 2,
       "version_minor": 0
      },
      "text/plain": [
       "  0%|          | 0/517 [00:00<?, ?it/s]"
      ]
     },
     "metadata": {},
     "output_type": "display_data"
    },
    {
     "name": "stdout",
     "output_type": "stream",
     "text": [
      "Sub07 -> Sub08: Epoch 61: EEG2EEG loss: 0.8964982725665464, Corr : 0.7234764500228644\n"
     ]
    },
    {
     "data": {
      "application/vnd.jupyter.widget-view+json": {
       "model_id": "0a53190544164b5d86d34d55264ea62b",
       "version_major": 2,
       "version_minor": 0
      },
      "text/plain": [
       "  0%|          | 0/517 [00:00<?, ?it/s]"
      ]
     },
     "metadata": {},
     "output_type": "display_data"
    },
    {
     "name": "stdout",
     "output_type": "stream",
     "text": [
      "Sub07 -> Sub08: Epoch 62: EEG2EEG loss: 0.8967017831147525, Corr : 0.7105126203844551\n"
     ]
    },
    {
     "data": {
      "application/vnd.jupyter.widget-view+json": {
       "model_id": "cb5ef5a7a2944fe3bd7d96e3c931996b",
       "version_major": 2,
       "version_minor": 0
      },
      "text/plain": [
       "  0%|          | 0/517 [00:00<?, ?it/s]"
      ]
     },
     "metadata": {},
     "output_type": "display_data"
    },
    {
     "name": "stdout",
     "output_type": "stream",
     "text": [
      "Sub07 -> Sub08: Epoch 63: EEG2EEG loss: 0.8964105470383421, Corr : 0.7092605294425818\n"
     ]
    },
    {
     "data": {
      "application/vnd.jupyter.widget-view+json": {
       "model_id": "9230271319cf42898d5197d4443f96e8",
       "version_major": 2,
       "version_minor": 0
      },
      "text/plain": [
       "  0%|          | 0/517 [00:00<?, ?it/s]"
      ]
     },
     "metadata": {},
     "output_type": "display_data"
    },
    {
     "name": "stdout",
     "output_type": "stream",
     "text": [
      "Sub07 -> Sub08: Epoch 64: EEG2EEG loss: 0.8965901703622401, Corr : 0.7189230430445771\n"
     ]
    },
    {
     "data": {
      "application/vnd.jupyter.widget-view+json": {
       "model_id": "b547c6d98c7544cf9d84287d5254b811",
       "version_major": 2,
       "version_minor": 0
      },
      "text/plain": [
       "  0%|          | 0/517 [00:00<?, ?it/s]"
      ]
     },
     "metadata": {},
     "output_type": "display_data"
    },
    {
     "name": "stdout",
     "output_type": "stream",
     "text": [
      "Sub07 -> Sub08: Epoch 65: EEG2EEG loss: 0.896148175519947, Corr : 0.7173954272806726\n"
     ]
    },
    {
     "data": {
      "application/vnd.jupyter.widget-view+json": {
       "model_id": "626ec8bc8dbd43918c6dbc00e935df39",
       "version_major": 2,
       "version_minor": 0
      },
      "text/plain": [
       "  0%|          | 0/517 [00:00<?, ?it/s]"
      ]
     },
     "metadata": {},
     "output_type": "display_data"
    },
    {
     "name": "stdout",
     "output_type": "stream",
     "text": [
      "Sub07 -> Sub08: Epoch 66: EEG2EEG loss: 0.8958788972989272, Corr : 0.7131546485540459\n"
     ]
    },
    {
     "data": {
      "application/vnd.jupyter.widget-view+json": {
       "model_id": "07a0fb99e66440ff8bcea01e287e0d42",
       "version_major": 2,
       "version_minor": 0
      },
      "text/plain": [
       "  0%|          | 0/517 [00:00<?, ?it/s]"
      ]
     },
     "metadata": {},
     "output_type": "display_data"
    },
    {
     "name": "stdout",
     "output_type": "stream",
     "text": [
      "Sub07 -> Sub08: Epoch 67: EEG2EEG loss: 0.8953462036712027, Corr : 0.7230169691701728\n"
     ]
    },
    {
     "data": {
      "application/vnd.jupyter.widget-view+json": {
       "model_id": "eaf8de38864d4fd382851553307ae98d",
       "version_major": 2,
       "version_minor": 0
      },
      "text/plain": [
       "  0%|          | 0/517 [00:00<?, ?it/s]"
      ]
     },
     "metadata": {},
     "output_type": "display_data"
    },
    {
     "name": "stdout",
     "output_type": "stream",
     "text": [
      "Sub07 -> Sub08: Epoch 68: EEG2EEG loss: 0.8957064216326007, Corr : 0.7249545837996412\n"
     ]
    },
    {
     "data": {
      "application/vnd.jupyter.widget-view+json": {
       "model_id": "d72a49033f76454dae381630e2a7cb7a",
       "version_major": 2,
       "version_minor": 0
      },
      "text/plain": [
       "  0%|          | 0/517 [00:00<?, ?it/s]"
      ]
     },
     "metadata": {},
     "output_type": "display_data"
    },
    {
     "name": "stdout",
     "output_type": "stream",
     "text": [
      "Sub07 -> Sub08: Epoch 69: EEG2EEG loss: 0.8957740258663258, Corr : 0.7255312534496282\n"
     ]
    },
    {
     "data": {
      "application/vnd.jupyter.widget-view+json": {
       "model_id": "a6133e11d21b4b03b8a3e448dac42b95",
       "version_major": 2,
       "version_minor": 0
      },
      "text/plain": [
       "  0%|          | 0/517 [00:00<?, ?it/s]"
      ]
     },
     "metadata": {},
     "output_type": "display_data"
    },
    {
     "name": "stdout",
     "output_type": "stream",
     "text": [
      "Sub07 -> Sub08: Epoch 70: EEG2EEG loss: 0.8956210020086521, Corr : 0.7195490534930841\n"
     ]
    },
    {
     "data": {
      "application/vnd.jupyter.widget-view+json": {
       "model_id": "10512dddddc040e2b15e608b961d495f",
       "version_major": 2,
       "version_minor": 0
      },
      "text/plain": [
       "  0%|          | 0/517 [00:00<?, ?it/s]"
      ]
     },
     "metadata": {},
     "output_type": "display_data"
    },
    {
     "name": "stdout",
     "output_type": "stream",
     "text": [
      "Sub07 -> Sub08: Epoch 71: EEG2EEG loss: 0.8959216392478353, Corr : 0.7191151679265073\n"
     ]
    },
    {
     "data": {
      "application/vnd.jupyter.widget-view+json": {
       "model_id": "66fe30b0d0d84113a5abd20ce9de8a4c",
       "version_major": 2,
       "version_minor": 0
      },
      "text/plain": [
       "  0%|          | 0/517 [00:00<?, ?it/s]"
      ]
     },
     "metadata": {},
     "output_type": "display_data"
    },
    {
     "name": "stdout",
     "output_type": "stream",
     "text": [
      "Sub07 -> Sub08: Epoch 72: EEG2EEG loss: 0.894736898994538, Corr : 0.7116510629392659\n"
     ]
    },
    {
     "data": {
      "application/vnd.jupyter.widget-view+json": {
       "model_id": "0dcad5a53da948b09a1c53607ed751a3",
       "version_major": 2,
       "version_minor": 0
      },
      "text/plain": [
       "  0%|          | 0/517 [00:00<?, ?it/s]"
      ]
     },
     "metadata": {},
     "output_type": "display_data"
    },
    {
     "name": "stdout",
     "output_type": "stream",
     "text": [
      "Sub07 -> Sub08: Epoch 73: EEG2EEG loss: 0.8949825050060708, Corr : 0.7232072125538922\n"
     ]
    },
    {
     "data": {
      "application/vnd.jupyter.widget-view+json": {
       "model_id": "5f620e2937ed4c1e8a7aeab6097bb10b",
       "version_major": 2,
       "version_minor": 0
      },
      "text/plain": [
       "  0%|          | 0/517 [00:00<?, ?it/s]"
      ]
     },
     "metadata": {},
     "output_type": "display_data"
    },
    {
     "name": "stdout",
     "output_type": "stream",
     "text": [
      "Sub07 -> Sub08: Epoch 74: EEG2EEG loss: 0.8948667508836411, Corr : 0.7186768577139514\n"
     ]
    },
    {
     "data": {
      "application/vnd.jupyter.widget-view+json": {
       "model_id": "e30d1183b023463a8c620e34522f4b62",
       "version_major": 2,
       "version_minor": 0
      },
      "text/plain": [
       "  0%|          | 0/517 [00:00<?, ?it/s]"
      ]
     },
     "metadata": {},
     "output_type": "display_data"
    },
    {
     "name": "stdout",
     "output_type": "stream",
     "text": [
      "Sub07 -> Sub08: Epoch 75: EEG2EEG loss: 0.8949268386488496, Corr : 0.7126953053613606\n"
     ]
    },
    {
     "data": {
      "application/vnd.jupyter.widget-view+json": {
       "model_id": "22f47ee021984734915c3c10313d7e1b",
       "version_major": 2,
       "version_minor": 0
      },
      "text/plain": [
       "  0%|          | 0/517 [00:00<?, ?it/s]"
      ]
     },
     "metadata": {},
     "output_type": "display_data"
    },
    {
     "name": "stdout",
     "output_type": "stream",
     "text": [
      "Sub07 -> Sub08: Epoch 76: EEG2EEG loss: 0.8945667069239589, Corr : 0.7171726010862006\n"
     ]
    },
    {
     "data": {
      "application/vnd.jupyter.widget-view+json": {
       "model_id": "5b18b7663ce144a3873b1c9f106781cf",
       "version_major": 2,
       "version_minor": 0
      },
      "text/plain": [
       "  0%|          | 0/517 [00:00<?, ?it/s]"
      ]
     },
     "metadata": {},
     "output_type": "display_data"
    },
    {
     "name": "stdout",
     "output_type": "stream",
     "text": [
      "Sub07 -> Sub08: Epoch 77: EEG2EEG loss: 0.8950273048139864, Corr : 0.7213906537769637\n"
     ]
    },
    {
     "data": {
      "application/vnd.jupyter.widget-view+json": {
       "model_id": "e7e4190751f84d0b88f11a74476521ca",
       "version_major": 2,
       "version_minor": 0
      },
      "text/plain": [
       "  0%|          | 0/517 [00:00<?, ?it/s]"
      ]
     },
     "metadata": {},
     "output_type": "display_data"
    },
    {
     "name": "stdout",
     "output_type": "stream",
     "text": [
      "Sub07 -> Sub08: Epoch 78: EEG2EEG loss: 0.8938455515373607, Corr : 0.7119667234947313\n"
     ]
    },
    {
     "data": {
      "application/vnd.jupyter.widget-view+json": {
       "model_id": "40c3b8fa31d247c09c358572f13e983f",
       "version_major": 2,
       "version_minor": 0
      },
      "text/plain": [
       "  0%|          | 0/517 [00:00<?, ?it/s]"
      ]
     },
     "metadata": {},
     "output_type": "display_data"
    },
    {
     "name": "stdout",
     "output_type": "stream",
     "text": [
      "Sub07 -> Sub08: Epoch 79: EEG2EEG loss: 0.894052031768821, Corr : 0.7079314981611055\n"
     ]
    },
    {
     "data": {
      "application/vnd.jupyter.widget-view+json": {
       "model_id": "2fd7c2c55d6f4bbbaf226b4bd97e8f7e",
       "version_major": 2,
       "version_minor": 0
      },
      "text/plain": [
       "  0%|          | 0/517 [00:00<?, ?it/s]"
      ]
     },
     "metadata": {},
     "output_type": "display_data"
    },
    {
     "name": "stdout",
     "output_type": "stream",
     "text": [
      "Sub07 -> Sub08: Epoch 80: EEG2EEG loss: 0.8940318708147716, Corr : 0.7180088153888318\n"
     ]
    },
    {
     "data": {
      "application/vnd.jupyter.widget-view+json": {
       "model_id": "f8e82292be4e43d39935d7d7a1d19025",
       "version_major": 2,
       "version_minor": 0
      },
      "text/plain": [
       "  0%|          | 0/517 [00:00<?, ?it/s]"
      ]
     },
     "metadata": {},
     "output_type": "display_data"
    },
    {
     "name": "stdout",
     "output_type": "stream",
     "text": [
      "Sub07 -> Sub08: Epoch 81: EEG2EEG loss: 0.8938322181397296, Corr : 0.7066139420361468\n"
     ]
    },
    {
     "data": {
      "application/vnd.jupyter.widget-view+json": {
       "model_id": "a16e714ea9c1443f8c75dff0a104b162",
       "version_major": 2,
       "version_minor": 0
      },
      "text/plain": [
       "  0%|          | 0/517 [00:00<?, ?it/s]"
      ]
     },
     "metadata": {},
     "output_type": "display_data"
    },
    {
     "name": "stdout",
     "output_type": "stream",
     "text": [
      "Sub07 -> Sub08: Epoch 82: EEG2EEG loss: 0.8944329195718931, Corr : 0.706664685386649\n"
     ]
    },
    {
     "data": {
      "application/vnd.jupyter.widget-view+json": {
       "model_id": "023a2666d6a14c93b87f652ef5a85983",
       "version_major": 2,
       "version_minor": 0
      },
      "text/plain": [
       "  0%|          | 0/517 [00:00<?, ?it/s]"
      ]
     },
     "metadata": {},
     "output_type": "display_data"
    },
    {
     "name": "stdout",
     "output_type": "stream",
     "text": [
      "Sub07 -> Sub08: Epoch 83: EEG2EEG loss: 0.8937688494097564, Corr : 0.7087363828619465\n"
     ]
    },
    {
     "data": {
      "application/vnd.jupyter.widget-view+json": {
       "model_id": "49817305c1734018837a4443487d09ce",
       "version_major": 2,
       "version_minor": 0
      },
      "text/plain": [
       "  0%|          | 0/517 [00:00<?, ?it/s]"
      ]
     },
     "metadata": {},
     "output_type": "display_data"
    },
    {
     "name": "stdout",
     "output_type": "stream",
     "text": [
      "Sub07 -> Sub08: Epoch 84: EEG2EEG loss: 0.8936191718859645, Corr : 0.7149329105138242\n"
     ]
    },
    {
     "data": {
      "application/vnd.jupyter.widget-view+json": {
       "model_id": "8f747240ff8242c08c3449c2addc5af9",
       "version_major": 2,
       "version_minor": 0
      },
      "text/plain": [
       "  0%|          | 0/517 [00:00<?, ?it/s]"
      ]
     },
     "metadata": {},
     "output_type": "display_data"
    },
    {
     "name": "stdout",
     "output_type": "stream",
     "text": [
      "Sub07 -> Sub08: Epoch 85: EEG2EEG loss: 0.8942592242008482, Corr : 0.7141771949094103\n"
     ]
    },
    {
     "data": {
      "application/vnd.jupyter.widget-view+json": {
       "model_id": "6af46d41b7f34c99a5ff51f0f0a98ead",
       "version_major": 2,
       "version_minor": 0
      },
      "text/plain": [
       "  0%|          | 0/517 [00:00<?, ?it/s]"
      ]
     },
     "metadata": {},
     "output_type": "display_data"
    },
    {
     "name": "stdout",
     "output_type": "stream",
     "text": [
      "Sub07 -> Sub08: Epoch 86: EEG2EEG loss: 0.8932969625498848, Corr : 0.7148414528500429\n"
     ]
    },
    {
     "data": {
      "application/vnd.jupyter.widget-view+json": {
       "model_id": "adf0e767cb294564963f7f193a57b17f",
       "version_major": 2,
       "version_minor": 0
      },
      "text/plain": [
       "  0%|          | 0/517 [00:00<?, ?it/s]"
      ]
     },
     "metadata": {},
     "output_type": "display_data"
    },
    {
     "name": "stdout",
     "output_type": "stream",
     "text": [
      "Sub07 -> Sub08: Epoch 87: EEG2EEG loss: 0.893167504950695, Corr : 0.7154540271066707\n"
     ]
    },
    {
     "data": {
      "application/vnd.jupyter.widget-view+json": {
       "model_id": "cb4ed600b6dd44e19afac76792bbdcba",
       "version_major": 2,
       "version_minor": 0
      },
      "text/plain": [
       "  0%|          | 0/517 [00:00<?, ?it/s]"
      ]
     },
     "metadata": {},
     "output_type": "display_data"
    },
    {
     "name": "stdout",
     "output_type": "stream",
     "text": [
      "Sub07 -> Sub08: Epoch 88: EEG2EEG loss: 0.8935598318304729, Corr : 0.717900849144678\n"
     ]
    },
    {
     "data": {
      "application/vnd.jupyter.widget-view+json": {
       "model_id": "d76a828f08444159950ad233522745d9",
       "version_major": 2,
       "version_minor": 0
      },
      "text/plain": [
       "  0%|          | 0/517 [00:00<?, ?it/s]"
      ]
     },
     "metadata": {},
     "output_type": "display_data"
    },
    {
     "name": "stdout",
     "output_type": "stream",
     "text": [
      "Sub07 -> Sub08: Epoch 89: EEG2EEG loss: 0.8929779266711592, Corr : 0.7129306597755004\n"
     ]
    },
    {
     "data": {
      "application/vnd.jupyter.widget-view+json": {
       "model_id": "beb3c3893abb4f20b1f5e61c41f8818f",
       "version_major": 2,
       "version_minor": 0
      },
      "text/plain": [
       "  0%|          | 0/517 [00:00<?, ?it/s]"
      ]
     },
     "metadata": {},
     "output_type": "display_data"
    },
    {
     "name": "stdout",
     "output_type": "stream",
     "text": [
      "Sub07 -> Sub08: Epoch 90: EEG2EEG loss: 0.8928085804792621, Corr : 0.7079953927415796\n"
     ]
    },
    {
     "data": {
      "application/vnd.jupyter.widget-view+json": {
       "model_id": "c2f344202bf8462a91c7b5aeee9565bf",
       "version_major": 2,
       "version_minor": 0
      },
      "text/plain": [
       "  0%|          | 0/517 [00:00<?, ?it/s]"
      ]
     },
     "metadata": {},
     "output_type": "display_data"
    },
    {
     "name": "stdout",
     "output_type": "stream",
     "text": [
      "Sub07 -> Sub08: Epoch 91: EEG2EEG loss: 0.8921121078718101, Corr : 0.7148822456446915\n"
     ]
    },
    {
     "data": {
      "application/vnd.jupyter.widget-view+json": {
       "model_id": "54b880c6936844daaca49a5a301450a8",
       "version_major": 2,
       "version_minor": 0
      },
      "text/plain": [
       "  0%|          | 0/517 [00:00<?, ?it/s]"
      ]
     },
     "metadata": {},
     "output_type": "display_data"
    },
    {
     "name": "stdout",
     "output_type": "stream",
     "text": [
      "Sub07 -> Sub08: Epoch 92: EEG2EEG loss: 0.8925866049424361, Corr : 0.7128793272781531\n"
     ]
    },
    {
     "data": {
      "application/vnd.jupyter.widget-view+json": {
       "model_id": "e522223084dd4440b1bc454dcc5af630",
       "version_major": 2,
       "version_minor": 0
      },
      "text/plain": [
       "  0%|          | 0/517 [00:00<?, ?it/s]"
      ]
     },
     "metadata": {},
     "output_type": "display_data"
    },
    {
     "name": "stdout",
     "output_type": "stream",
     "text": [
      "Sub07 -> Sub08: Epoch 93: EEG2EEG loss: 0.8930725386686897, Corr : 0.704027567653387\n"
     ]
    },
    {
     "data": {
      "application/vnd.jupyter.widget-view+json": {
       "model_id": "3f6ed894ae7a473c9432e922f02b09a5",
       "version_major": 2,
       "version_minor": 0
      },
      "text/plain": [
       "  0%|          | 0/517 [00:00<?, ?it/s]"
      ]
     },
     "metadata": {},
     "output_type": "display_data"
    },
    {
     "name": "stdout",
     "output_type": "stream",
     "text": [
      "Sub07 -> Sub08: Epoch 94: EEG2EEG loss: 0.8924950301301318, Corr : 0.7153692653151308\n"
     ]
    },
    {
     "data": {
      "application/vnd.jupyter.widget-view+json": {
       "model_id": "503557f9717e4f67b30456a7a80430bd",
       "version_major": 2,
       "version_minor": 0
      },
      "text/plain": [
       "  0%|          | 0/517 [00:00<?, ?it/s]"
      ]
     },
     "metadata": {},
     "output_type": "display_data"
    },
    {
     "name": "stdout",
     "output_type": "stream",
     "text": [
      "Sub07 -> Sub08: Epoch 95: EEG2EEG loss: 0.8924382112242959, Corr : 0.7145097077754677\n"
     ]
    },
    {
     "data": {
      "application/vnd.jupyter.widget-view+json": {
       "model_id": "0bb92f8674364243a7cc18722d03621f",
       "version_major": 2,
       "version_minor": 0
      },
      "text/plain": [
       "  0%|          | 0/517 [00:00<?, ?it/s]"
      ]
     },
     "metadata": {},
     "output_type": "display_data"
    },
    {
     "name": "stdout",
     "output_type": "stream",
     "text": [
      "Sub07 -> Sub08: Epoch 96: EEG2EEG loss: 0.8920229691831932, Corr : 0.7133919382577918\n"
     ]
    },
    {
     "data": {
      "application/vnd.jupyter.widget-view+json": {
       "model_id": "504d8237c85b4859828fd91b38bb0bc5",
       "version_major": 2,
       "version_minor": 0
      },
      "text/plain": [
       "  0%|          | 0/517 [00:00<?, ?it/s]"
      ]
     },
     "metadata": {},
     "output_type": "display_data"
    },
    {
     "name": "stdout",
     "output_type": "stream",
     "text": [
      "Sub07 -> Sub08: Epoch 97: EEG2EEG loss: 0.8920965319214753, Corr : 0.7137511731403445\n"
     ]
    },
    {
     "data": {
      "application/vnd.jupyter.widget-view+json": {
       "model_id": "d826c6731b184c5095c682b45386daa9",
       "version_major": 2,
       "version_minor": 0
      },
      "text/plain": [
       "  0%|          | 0/517 [00:00<?, ?it/s]"
      ]
     },
     "metadata": {},
     "output_type": "display_data"
    },
    {
     "name": "stdout",
     "output_type": "stream",
     "text": [
      "Sub07 -> Sub08: Epoch 98: EEG2EEG loss: 0.8921664635032934, Corr : 0.7210899324013419\n"
     ]
    },
    {
     "data": {
      "application/vnd.jupyter.widget-view+json": {
       "model_id": "bcf72253669b4fce9487c64ba6f433b8",
       "version_major": 2,
       "version_minor": 0
      },
      "text/plain": [
       "  0%|          | 0/517 [00:00<?, ?it/s]"
      ]
     },
     "metadata": {},
     "output_type": "display_data"
    },
    {
     "name": "stdout",
     "output_type": "stream",
     "text": [
      "Sub07 -> Sub08: Epoch 99: EEG2EEG loss: 0.8917474142010945, Corr : 0.7104873698599656\n"
     ]
    },
    {
     "data": {
      "application/vnd.jupyter.widget-view+json": {
       "model_id": "c13f7ecb7678444eb5f3e217a44f2e46",
       "version_major": 2,
       "version_minor": 0
      },
      "text/plain": [
       "  0%|          | 0/517 [00:00<?, ?it/s]"
      ]
     },
     "metadata": {},
     "output_type": "display_data"
    },
    {
     "name": "stdout",
     "output_type": "stream",
     "text": [
      "Sub07 -> Sub08: Epoch 100: EEG2EEG loss: 0.8924008075227129, Corr : 0.7131009053359892\n"
     ]
    }
   ],
   "source": [
    "def train_and_test(torch_data, input_dim, real_dim, lr, testsub1data, testsub2data, subid1, subid2):\n",
    "\n",
    "    gen = UNet(input_dim, real_dim).to(device)\n",
    "    gen_opt = torch.optim.Adam(gen.parameters(), lr=lr)\n",
    "    gen = gen.apply(weights_init)\n",
    "    \n",
    "    epochs_loss = np.zeros([n_epochs])\n",
    "    epochs_corr = np.zeros([n_epochs])\n",
    "    \n",
    "    dataloader = DataLoader(torch_data, batch_size=batch_size, shuffle=True)\n",
    "    \n",
    "    best_corr = 0\n",
    "    \n",
    "    gen.train()\n",
    "\n",
    "    for epoch in range(n_epochs):\n",
    "        loss = 0\n",
    "        # Dataloader returns the batches\n",
    "        cur_step = 0\n",
    "        for data1, data2 in tqdm(dataloader):\n",
    "            condition = data1\n",
    "            real = data2\n",
    "            cur_batch_size = len(condition)\n",
    "            condition = condition.to(device)\n",
    "            real = real.to(device)\n",
    "\n",
    "            gen_opt.zero_grad()\n",
    "            gen_loss = get_gen_loss(gen, real, condition, recon_criterion)\n",
    "            gen_loss.backward() # Update gradients\n",
    "            gen_opt.step() # Update optimizer\n",
    "            loss += gen_loss.item()\n",
    "            \n",
    "            cur_step += 1\n",
    "        \n",
    "        gen.eval()\n",
    "        gen_opt.zero_grad()\n",
    "        \n",
    "        testsub1data = testsub1data.to(device)\n",
    "        testsub2data = testsub2data.to(device)\n",
    "        \n",
    "        testsub2fakedata = gen(testsub1data)\n",
    "        \n",
    "        arr1 = testsub2fakedata.detach().cpu().numpy()\n",
    "        arr2 = testsub2data.detach().cpu().numpy()\n",
    "        \n",
    "        corr = spearmanr(arr1.flatten(), arr2.flatten())[0]\n",
    "            \n",
    "        # Keep track of the average generator loss\n",
    "        mean_loss = loss / cur_step\n",
    "        \n",
    "        print('Sub' + str(subid1+1).zfill(2) + ' -> ' + 'Sub' + str(subid2+1).zfill(2) + ': ' + f\"Epoch {epoch+1}: EEG2EEG loss: {mean_loss}, Corr : {corr}\")\n",
    "        #show(condition, fake, real)\n",
    "        loss = 0\n",
    "        epochs_loss[epoch] = mean_loss\n",
    "        epochs_corr[epoch] = corr\n",
    "        if corr > best_corr:\n",
    "            best_corr = corr\n",
    "            best_gen = copy.deepcopy(gen.state_dict())\n",
    "            best_gen_opt = copy.deepcopy(gen_opt.state_dict())\n",
    "    torch.save({'gen':  gen.state_dict(),\n",
    "                'gen_opt': gen_opt.state_dict()\n",
    "                }, f\"weights_nocosineloss/Sub{subid1+1}ToSub{subid2+1}_AllChannels/final_model.pth\")\n",
    "    torch.save({'gen':  best_gen,\n",
    "                'gen_opt': best_gen_opt\n",
    "                }, f\"weights_nocosineloss/Sub{subid1+1}ToSub{subid2+1}_AllChannels/best_model.pth\")\n",
    "    np.save(f'weights_nocosineloss/Sub{subid1+1}ToSub{subid2+1}_AllChannels/gloss.npy', epochs_loss)\n",
    "    np.save(f'weights_nocosineloss/Sub{subid1+1}ToSub{subid2+1}_AllChannels/corr.npy', epochs_corr)\n",
    "\n",
    "for subid1 in range(10):\n",
    "    for subid2 in range(10):\n",
    "        if subid1 < subid2 and subid1 != 8 and subid2 != 8 and subid1 == 6 and subid2 == 7:\n",
    "            data1 = np.load('eeg_data/train/sub' + str(subid1+1).zfill(2) + '.npy')\n",
    "            mean1 = np.average(data1)\n",
    "            std1 = np.std(data1)\n",
    "            data1 = (data1-mean1)/std1\n",
    "            data1 = np.transpose(data1, (1, 0, 2))\n",
    "            data1 = torch.from_numpy(data1).float()\n",
    "            data2 = np.load('eeg_data/train/sub' + str(subid2+1).zfill(2) + '.npy')\n",
    "            mean2 = np.average(data2)\n",
    "            std2 = np.std(data2)\n",
    "            data2 = (data2-mean2)/std2\n",
    "            data2 = np.transpose(data2, (1, 0, 2))\n",
    "            data2 = torch.from_numpy(data2).float()\n",
    "            torch_data = GetData(data1, data2)\n",
    "            testsub1data = np.load('eeg_data/test/sub' + str(subid1+1).zfill(2) + '.npy')\n",
    "            testsub1data = (testsub1data-mean1)/std1\n",
    "            testsub1data = np.transpose(testsub1data, (1, 0, 2))\n",
    "            testsub1data = torch.from_numpy(testsub1data).float()\n",
    "            testsub2data = np.load('eeg_data/test/sub' + str(subid2+1).zfill(2) + '.npy')\n",
    "            testsub2data = (testsub2data-mean2)/std2\n",
    "            testsub2data = np.transpose(testsub2data, (1, 0, 2))\n",
    "            testsub2data = torch.from_numpy(testsub2data).float()\n",
    "            train_and_test(torch_data, input_dim, real_dim, lr, testsub1data, testsub2data, subid1, subid2)"
   ]
  },
  {
   "cell_type": "code",
   "execution_count": 15,
   "id": "6ce5c654",
   "metadata": {},
   "outputs": [],
   "source": [
    "for subid1 in range(10):\n",
    "    for subid2 in range(10):\n",
    "        if subid1 != subid2 and subid1 != 8 and subid2 != 8 and subid1 == 6 and subid2 >= 7:\n",
    "            data1 = np.load('eeg_data/train/sub' + str(subid1+1).zfill(2) + '.npy')\n",
    "            mean1 = np.average(data1)\n",
    "            std1 = np.std(data1)\n",
    "            data1 = (data1-mean1)/std1\n",
    "            data1 = np.transpose(data1, (1, 0, 2))\n",
    "            data1 = torch.from_numpy(data1).float()\n",
    "            data2 = np.load('eeg_data/train/sub' + str(subid2+1).zfill(2) + '.npy')\n",
    "            mean2 = np.average(data2)\n",
    "            std2 = np.std(data2)\n",
    "            data2 = (data2-mean2)/std2\n",
    "            data2 = np.transpose(data2, (1, 0, 2))\n",
    "            data2 = torch.from_numpy(data2).float()\n",
    "            torch_data = GetData(data1, data2)\n",
    "            testsub1data = np.load('eeg_data/test/st_sub' + str(subid1+1).zfill(2) + '.npy')\n",
    "            testsub1data = (testsub1data-mean1)/std1\n",
    "            testsub1data = np.transpose(testsub1data, (1, 2, 0, 3))\n",
    "            gen = UNet(input_dim, real_dim).to(device)\n",
    "            gen.load_state_dict(torch.load(f\"weights_nocosineloss/Sub{subid1+1}ToSub{subid2+1}_AllChannels/best_model.pth\")['gen'])\n",
    "            gen.eval()\n",
    "            testsub2fakedata = np.zeros([200, 80, 17, 200])\n",
    "            for i in range(200):\n",
    "                test = torch.from_numpy(testsub1data[i]).float()\n",
    "                test = test.to(device)\n",
    "                testsub2fakedata[i] = gen(test).detach().cpu().numpy()\n",
    "            np.save(f\"generated_nocosineloss/st_Sub{subid1+1}ToSub{subid2+1}.npy\", testsub2fakedata)"
   ]
  },
  {
   "cell_type": "code",
   "execution_count": null,
   "id": "9c2f9fef",
   "metadata": {},
   "outputs": [],
   "source": []
  }
 ],
 "metadata": {
  "kernelspec": {
   "display_name": "Python 3 (ipykernel)",
   "language": "python",
   "name": "python3"
  },
  "language_info": {
   "codemirror_mode": {
    "name": "ipython",
    "version": 3
   },
   "file_extension": ".py",
   "mimetype": "text/x-python",
   "name": "python",
   "nbconvert_exporter": "python",
   "pygments_lexer": "ipython3",
   "version": "3.9.12"
  }
 },
 "nbformat": 4,
 "nbformat_minor": 5
}
